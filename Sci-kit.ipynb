{
 "cells": [
  {
   "cell_type": "markdown",
   "id": "51ceee31",
   "metadata": {},
   "source": [
    "# Machine learning in scikit-learn"
   ]
  },
  {
   "cell_type": "code",
   "execution_count": 2,
   "id": "1f8f43ab",
   "metadata": {},
   "outputs": [
    {
     "name": "stdout",
     "output_type": "stream",
     "text": [
      "[1]\n"
     ]
    }
   ],
   "source": [
    "import sklearn\n",
    "from sklearn import tree\n",
    "\n",
    "bumpy = 1\n",
    "smooth = 0\n",
    "orange = 0\n",
    "apple = 1\n",
    "\n",
    "feature = [[140, bumpy],[130,bumpy], [150, smooth],[170, smooth]]\n",
    "label = [orange, orange, apple, apple]\n",
    "\n",
    "dtc = tree.DecisionTreeClassifier()\n",
    "dtc.fit(feature, label)\n",
    "print(dtc.predict([[160, smooth]]))"
   ]
  },
  {
   "cell_type": "code",
   "execution_count": null,
   "id": "49b26065",
   "metadata": {},
   "outputs": [],
   "source": []
  }
 ],
 "metadata": {
  "kernelspec": {
   "display_name": "Python 3 (ipykernel)",
   "language": "python",
   "name": "python3"
  },
  "language_info": {
   "codemirror_mode": {
    "name": "ipython",
    "version": 3
   },
   "file_extension": ".py",
   "mimetype": "text/x-python",
   "name": "python",
   "nbconvert_exporter": "python",
   "pygments_lexer": "ipython3",
   "version": "3.11.4"
  }
 },
 "nbformat": 4,
 "nbformat_minor": 5
}
