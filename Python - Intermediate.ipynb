{
 "cells": [
  {
   "cell_type": "markdown",
   "id": "268b2c68",
   "metadata": {},
   "source": [
    "## Zip function"
   ]
  },
  {
   "cell_type": "code",
   "execution_count": 7,
   "id": "c0c484a2",
   "metadata": {},
   "outputs": [],
   "source": [
    "languages = ['Java', 'Python', 'JS']\n",
    "versions = [14, 5, 9]\n"
   ]
  },
  {
   "cell_type": "code",
   "execution_count": 8,
   "id": "bfe4a7dd",
   "metadata": {},
   "outputs": [],
   "source": [
    "result = zip(languages, versions)"
   ]
  },
  {
   "cell_type": "code",
   "execution_count": 9,
   "id": "c4197f59",
   "metadata": {},
   "outputs": [
    {
     "data": {
      "text/plain": [
       "<zip at 0x7fae00736540>"
      ]
     },
     "execution_count": 9,
     "metadata": {},
     "output_type": "execute_result"
    }
   ],
   "source": [
    "result"
   ]
  },
  {
   "cell_type": "code",
   "execution_count": 10,
   "id": "2c50e904",
   "metadata": {},
   "outputs": [
    {
     "data": {
      "text/plain": [
       "[('Java', 14), ('Python', 5), ('JS', 9)]"
      ]
     },
     "execution_count": 10,
     "metadata": {},
     "output_type": "execute_result"
    }
   ],
   "source": [
    "list(result)"
   ]
  },
  {
   "cell_type": "markdown",
   "id": "67ecf739",
   "metadata": {},
   "source": [
    "## Pandas"
   ]
  },
  {
   "cell_type": "code",
   "execution_count": 11,
   "id": "bf421d31",
   "metadata": {},
   "outputs": [],
   "source": [
    "data = {\n",
    "    'Name': ['a', 'b', 'c'],\n",
    "    'Age': [2, 3, 4]\n",
    "}"
   ]
  },
  {
   "cell_type": "code",
   "execution_count": 12,
   "id": "db0feaf5",
   "metadata": {},
   "outputs": [],
   "source": [
    "import pandas as pd\n",
    "df = pd.DataFrame(data)"
   ]
  },
  {
   "cell_type": "code",
   "execution_count": 13,
   "id": "b37bab53",
   "metadata": {},
   "outputs": [
    {
     "data": {
      "text/html": [
       "<div>\n",
       "<style scoped>\n",
       "    .dataframe tbody tr th:only-of-type {\n",
       "        vertical-align: middle;\n",
       "    }\n",
       "\n",
       "    .dataframe tbody tr th {\n",
       "        vertical-align: top;\n",
       "    }\n",
       "\n",
       "    .dataframe thead th {\n",
       "        text-align: right;\n",
       "    }\n",
       "</style>\n",
       "<table border=\"1\" class=\"dataframe\">\n",
       "  <thead>\n",
       "    <tr style=\"text-align: right;\">\n",
       "      <th></th>\n",
       "      <th>Name</th>\n",
       "      <th>Age</th>\n",
       "    </tr>\n",
       "  </thead>\n",
       "  <tbody>\n",
       "    <tr>\n",
       "      <th>0</th>\n",
       "      <td>a</td>\n",
       "      <td>2</td>\n",
       "    </tr>\n",
       "    <tr>\n",
       "      <th>1</th>\n",
       "      <td>b</td>\n",
       "      <td>3</td>\n",
       "    </tr>\n",
       "    <tr>\n",
       "      <th>2</th>\n",
       "      <td>c</td>\n",
       "      <td>4</td>\n",
       "    </tr>\n",
       "  </tbody>\n",
       "</table>\n",
       "</div>"
      ],
      "text/plain": [
       "  Name  Age\n",
       "0    a    2\n",
       "1    b    3\n",
       "2    c    4"
      ]
     },
     "execution_count": 13,
     "metadata": {},
     "output_type": "execute_result"
    }
   ],
   "source": [
    "df"
   ]
  },
  {
   "cell_type": "markdown",
   "id": "fea10162",
   "metadata": {},
   "source": [
    "## Convert to series"
   ]
  },
  {
   "cell_type": "code",
   "execution_count": 14,
   "id": "851e1d06",
   "metadata": {},
   "outputs": [],
   "source": [
    "dfName = df['Name']"
   ]
  },
  {
   "cell_type": "code",
   "execution_count": 15,
   "id": "33c8df91",
   "metadata": {},
   "outputs": [
    {
     "data": {
      "text/plain": [
       "0    a\n",
       "1    b\n",
       "2    c\n",
       "Name: Name, dtype: object"
      ]
     },
     "execution_count": 15,
     "metadata": {},
     "output_type": "execute_result"
    }
   ],
   "source": [
    "dfName"
   ]
  },
  {
   "cell_type": "code",
   "execution_count": 16,
   "id": "dc191cfc",
   "metadata": {},
   "outputs": [
    {
     "data": {
      "text/plain": [
       "pandas.core.series.Series"
      ]
     },
     "execution_count": 16,
     "metadata": {},
     "output_type": "execute_result"
    }
   ],
   "source": [
    "type(dfName)"
   ]
  },
  {
   "cell_type": "markdown",
   "id": "105fae27",
   "metadata": {},
   "source": [
    "## lambda function"
   ]
  },
  {
   "cell_type": "code",
   "execution_count": 17,
   "id": "fa2b40e1",
   "metadata": {},
   "outputs": [],
   "source": [
    "r = df['Age'].apply(lambda x:21 if x == 2 else x)"
   ]
  },
  {
   "cell_type": "code",
   "execution_count": 18,
   "id": "c1b95899",
   "metadata": {},
   "outputs": [
    {
     "data": {
      "text/plain": [
       "0    21\n",
       "1     3\n",
       "2     4\n",
       "Name: Age, dtype: int64"
      ]
     },
     "execution_count": 18,
     "metadata": {},
     "output_type": "execute_result"
    }
   ],
   "source": [
    "r"
   ]
  },
  {
   "cell_type": "markdown",
   "id": "5bb84049",
   "metadata": {},
   "source": [
    "## Numpy"
   ]
  },
  {
   "cell_type": "markdown",
   "id": "9699dc91",
   "metadata": {},
   "source": [
    "### Array creation functions"
   ]
  },
  {
   "cell_type": "code",
   "execution_count": 19,
   "id": "1f6ed8eb",
   "metadata": {},
   "outputs": [
    {
     "name": "stdout",
     "output_type": "stream",
     "text": [
      "[ 1  2 46  7]\n"
     ]
    }
   ],
   "source": [
    "import numpy as np\n",
    "arr = np.array([1,2,46,7])\n",
    "print(arr)"
   ]
  },
  {
   "cell_type": "code",
   "execution_count": 20,
   "id": "10027c26",
   "metadata": {},
   "outputs": [
    {
     "name": "stdout",
     "output_type": "stream",
     "text": [
      "[[0. 0. 0.]\n",
      " [0. 0. 0.]\n",
      " [0. 0. 0.]]\n"
     ]
    }
   ],
   "source": [
    "arr_zeros = np.zeros((3,3))\n",
    "print(arr_zeros)"
   ]
  },
  {
   "cell_type": "code",
   "execution_count": 21,
   "id": "616f6b6b",
   "metadata": {},
   "outputs": [
    {
     "name": "stdout",
     "output_type": "stream",
     "text": [
      "[[1. 1. 1.]\n",
      " [1. 1. 1.]\n",
      " [1. 1. 1.]]\n"
     ]
    }
   ],
   "source": [
    "arr_ones = np.ones((3,3))\n",
    "print(arr_ones)"
   ]
  },
  {
   "cell_type": "markdown",
   "id": "f72f7310",
   "metadata": {},
   "source": [
    "### Array Manipulation function"
   ]
  },
  {
   "cell_type": "code",
   "execution_count": 22,
   "id": "2b26a613",
   "metadata": {},
   "outputs": [],
   "source": [
    "arr1 = np.array([1,3,5,7,9,11])"
   ]
  },
  {
   "cell_type": "code",
   "execution_count": 23,
   "id": "0f2b1560",
   "metadata": {},
   "outputs": [],
   "source": [
    "# Reshape 1D array to 2D array\n",
    "arr_reshape = np.reshape(arr1, (2,3))"
   ]
  },
  {
   "cell_type": "code",
   "execution_count": 24,
   "id": "f6c5e7d7",
   "metadata": {},
   "outputs": [
    {
     "data": {
      "text/plain": [
       "array([[ 1,  3,  5],\n",
       "       [ 7,  9, 11]])"
      ]
     },
     "execution_count": 24,
     "metadata": {},
     "output_type": "execute_result"
    }
   ],
   "source": [
    "arr_reshape"
   ]
  },
  {
   "cell_type": "code",
   "execution_count": 25,
   "id": "3a37bf4b",
   "metadata": {},
   "outputs": [
    {
     "data": {
      "text/plain": [
       "array([[ 1,  7],\n",
       "       [ 3,  9],\n",
       "       [ 5, 11]])"
      ]
     },
     "execution_count": 25,
     "metadata": {},
     "output_type": "execute_result"
    }
   ],
   "source": [
    "# Transpose the 2D array\n",
    "arr_trans = np.transpose(arr_reshape)\n",
    "arr_trans"
   ]
  },
  {
   "cell_type": "markdown",
   "id": "e72fbc63",
   "metadata": {},
   "source": [
    "### Array Input and Output function"
   ]
  },
  {
   "cell_type": "code",
   "execution_count": 26,
   "id": "bada2e5b",
   "metadata": {},
   "outputs": [],
   "source": [
    "arr_n = np.array([\n",
    "    [1,3,5],\n",
    "    [2,4,6]\n",
    "])"
   ]
  },
  {
   "cell_type": "code",
   "execution_count": 27,
   "id": "215a22cf",
   "metadata": {},
   "outputs": [],
   "source": [
    "# save the array to a text file\n",
    "np.savetxt('data.txt', arr_n)"
   ]
  },
  {
   "cell_type": "code",
   "execution_count": 28,
   "id": "e8b35aaf",
   "metadata": {},
   "outputs": [],
   "source": [
    "# load the data from text file\n",
    "loaded_data = np.loadtxt('data.txt')"
   ]
  },
  {
   "cell_type": "code",
   "execution_count": 29,
   "id": "0b5973b5",
   "metadata": {},
   "outputs": [
    {
     "name": "stdout",
     "output_type": "stream",
     "text": [
      "[[1. 3. 5.]\n",
      " [2. 4. 6.]]\n"
     ]
    }
   ],
   "source": [
    "print(loaded_data)"
   ]
  },
  {
   "cell_type": "markdown",
   "id": "d999d88a",
   "metadata": {},
   "source": [
    "# Scikit-learn"
   ]
  },
  {
   "cell_type": "code",
   "execution_count": 30,
   "id": "5745e0ef",
   "metadata": {},
   "outputs": [],
   "source": [
    "# SciPy has optimised functions that used in  NunPy and Data Science\n",
    "# 2x + y = 5\n",
    "# 4x - 5y = 7\n",
    "from scipy import linalg"
   ]
  },
  {
   "cell_type": "code",
   "execution_count": 31,
   "id": "b8f5812b",
   "metadata": {},
   "outputs": [],
   "source": [
    "a = np.array([[2,1], [4,-5]])\n",
    "b = np.array([[5], [7]])\n",
    "x = linalg.solve(a,b)"
   ]
  },
  {
   "cell_type": "code",
   "execution_count": 32,
   "id": "def7dcbb",
   "metadata": {},
   "outputs": [
    {
     "name": "stdout",
     "output_type": "stream",
     "text": [
      "[[0.]\n",
      " [0.]]\n"
     ]
    }
   ],
   "source": [
    "# To check if result is zero or non-zero\n",
    "print(a.dot(x)-b)"
   ]
  },
  {
   "cell_type": "code",
   "execution_count": 33,
   "id": "c05476cd",
   "metadata": {},
   "outputs": [],
   "source": [
    "# 2x + y = 5\n",
    "# x - 3y = -2\n",
    "\n",
    "a = np.array([[2,1], [1,-3]])\n",
    "b = np.array([[5], [-2]])\n",
    "x = linalg.solve(a,b)"
   ]
  },
  {
   "cell_type": "code",
   "execution_count": 34,
   "id": "7d14a3ad",
   "metadata": {},
   "outputs": [
    {
     "name": "stdout",
     "output_type": "stream",
     "text": [
      "[[ 0.0000000e+00]\n",
      " [-4.4408921e-16]]\n"
     ]
    }
   ],
   "source": [
    "print(a.dot(x)-b)"
   ]
  },
  {
   "cell_type": "code",
   "execution_count": null,
   "id": "7df6b6a5",
   "metadata": {},
   "outputs": [],
   "source": []
  }
 ],
 "metadata": {
  "kernelspec": {
   "display_name": "Python 3 (ipykernel)",
   "language": "python",
   "name": "python3"
  },
  "language_info": {
   "codemirror_mode": {
    "name": "ipython",
    "version": 3
   },
   "file_extension": ".py",
   "mimetype": "text/x-python",
   "name": "python",
   "nbconvert_exporter": "python",
   "pygments_lexer": "ipython3",
   "version": "3.11.4"
  }
 },
 "nbformat": 4,
 "nbformat_minor": 5
}
